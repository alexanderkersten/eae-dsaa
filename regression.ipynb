{
  "nbformat": 4,
  "nbformat_minor": 0,
  "metadata": {
    "colab": {
      "provenance": [],
      "toc_visible": true,
      "authorship_tag": "ABX9TyNAgWnyK4rvqnxICO91PSot",
      "include_colab_link": true
    },
    "kernelspec": {
      "name": "python3",
      "display_name": "Python 3"
    },
    "language_info": {
      "name": "python"
    }
  },
  "cells": [
    {
      "cell_type": "markdown",
      "metadata": {
        "id": "view-in-github",
        "colab_type": "text"
      },
      "source": [
        "<a href=\"https://colab.research.google.com/github/alexanderkersten/eae-dsaa/blob/main/regression.ipynb\" target=\"_parent\"><img src=\"https://colab.research.google.com/assets/colab-badge.svg\" alt=\"Open In Colab\"/></a>"
      ]
    },
    {
      "cell_type": "markdown",
      "source": [
        "# 1. Setup"
      ],
      "metadata": {
        "id": "_8mhjv9qC40T"
      }
    },
    {
      "cell_type": "code",
      "execution_count": null,
      "metadata": {
        "id": "riTZSBDA8g53"
      },
      "outputs": [],
      "source": [
        "!pip install ISLP"
      ]
    },
    {
      "cell_type": "code",
      "source": [
        "from ISLP import load_data\n",
        "car_seats = load_data('Carseats')"
      ],
      "metadata": {
        "id": "EfXcTyVQsKlN"
      },
      "execution_count": null,
      "outputs": []
    },
    {
      "cell_type": "markdown",
      "source": [
        "A simulated data set containing sales of child car seats at 400 different stores."
      ],
      "metadata": {
        "id": "ChR0JBOdgLgF"
      }
    },
    {
      "cell_type": "markdown",
      "source": [
        "# 2. Analysis"
      ],
      "metadata": {
        "id": "xhtaI028Cw7E"
      }
    },
    {
      "cell_type": "code",
      "source": [
        "car_seats"
      ],
      "metadata": {
        "id": "3IEuwI5NsNoe"
      },
      "execution_count": null,
      "outputs": []
    },
    {
      "cell_type": "markdown",
      "source": [
        "A data frame with 400 observations on the following 11 variables.\n",
        "\n",
        "- **Sales**\n",
        "Unit sales (in thousands) at each location\n",
        "\n",
        "- **CompPrice**\n",
        "Price charged by competitor at each location\n",
        "\n",
        "- **Income**\n",
        "Community income level (in thousands of dollars)\n",
        "\n",
        "- **Advertising**\n",
        "Local advertising budget for company at each location (in thousands of dollars)\n",
        "\n",
        "- **Population**\n",
        "Population size in region (in thousands)\n",
        "\n",
        "- **Price**\n",
        "Price company charges for car seats at each site\n",
        "\n",
        "- **ShelveLoc**\n",
        "A factor with levels Bad, Good and Medium indicating the quality of the shelving location for the car seats at each site\n",
        "\n",
        "- **Age**\n",
        "Average age of the local population\n",
        "\n",
        "- **Education**\n",
        "Education level at each location\n",
        "\n",
        "- **Urban**\n",
        "A factor with levels No and Yes to indicate whether the store is in an urban or rural location\n",
        "\n",
        "- **US**\n",
        "A factor with levels No and Yes to indicate whether the store is in the US or not"
      ],
      "metadata": {
        "id": "jRADHYThgDSl"
      }
    },
    {
      "cell_type": "code",
      "source": [
        "car_seats.dtypes"
      ],
      "metadata": {
        "id": "o9X8csHOtajt"
      },
      "execution_count": null,
      "outputs": []
    },
    {
      "cell_type": "markdown",
      "source": [
        "What is a float?\n",
        "What does 64 mean?\n",
        "What is a category?"
      ],
      "metadata": {
        "id": "oSBK5Oyi7bpg"
      }
    },
    {
      "cell_type": "code",
      "source": [
        "car_seats.describe()"
      ],
      "metadata": {
        "id": "-dQZNUOltDUR"
      },
      "execution_count": null,
      "outputs": []
    },
    {
      "cell_type": "markdown",
      "source": [
        "To which conclusions can we come by analyzing above table? Should we care about the value ranges? What's missing in this table?"
      ],
      "metadata": {
        "id": "VBwNtN247pqu"
      }
    },
    {
      "cell_type": "code",
      "source": [
        "car_seats.describe(include=[\"category\"])"
      ],
      "metadata": {
        "id": "18y6KLjuty4Y"
      },
      "execution_count": null,
      "outputs": []
    },
    {
      "cell_type": "code",
      "source": [
        "import seaborn as sns\n",
        "sns.pairplot(car_seats)  # hue=\"ShelveLoc\""
      ],
      "metadata": {
        "id": "JRcHXGG0ui3_"
      },
      "execution_count": null,
      "outputs": []
    },
    {
      "cell_type": "markdown",
      "source": [
        "What can we derive from the above diagram?"
      ],
      "metadata": {
        "id": "D-WmU6bs7P6p"
      }
    },
    {
      "cell_type": "code",
      "source": [
        "correlation = car_seats.corr(numeric_only=True)\n",
        "correlation\n",
        "# sns.heatmap(correlation, annot=True)"
      ],
      "metadata": {
        "id": "_L8eA7XgzVcb"
      },
      "execution_count": null,
      "outputs": []
    },
    {
      "cell_type": "code",
      "source": [
        "for series_name, series in car_seats.items():\n",
        "  sns.displot(series, height=3)"
      ],
      "metadata": {
        "id": "eG9Dy3BROt-h"
      },
      "execution_count": null,
      "outputs": []
    },
    {
      "cell_type": "code",
      "source": [
        "sns.boxplot(car_seats)"
      ],
      "metadata": {
        "id": "45C7KqyB4855"
      },
      "execution_count": null,
      "outputs": []
    },
    {
      "cell_type": "markdown",
      "source": [
        "# 3. Preparation"
      ],
      "metadata": {
        "id": "upR0RV84GQHi"
      }
    },
    {
      "cell_type": "markdown",
      "source": [
        "Can a (linear) regression algorithm work with categorical features?"
      ],
      "metadata": {
        "id": "dIQZtUOi-eB3"
      }
    },
    {
      "cell_type": "code",
      "source": [
        "from sklearn.preprocessing import OneHotEncoder\n",
        "import pandas as pd\n",
        "\n",
        "enc = OneHotEncoder(handle_unknown='ignore')\n",
        "enc.fit(car_seats[[\"ShelveLoc\"]])\n",
        "shelve_loc_ohe = enc.transform(car_seats[[\"ShelveLoc\"]])\n",
        "shelve_loc_ohe.toarray()"
      ],
      "metadata": {
        "id": "yV5mojxiGUT9"
      },
      "execution_count": null,
      "outputs": []
    },
    {
      "cell_type": "code",
      "source": [
        "list(enc.categories_[0])"
      ],
      "metadata": {
        "id": "nNFEw3aOTRHk"
      },
      "execution_count": null,
      "outputs": []
    },
    {
      "cell_type": "code",
      "source": [
        "column_names = [\"ShelveLoc\" + category for category in list(enc.categories_[0])]\n",
        "shelve_loc = pd.DataFrame(shelve_loc_ohe.toarray(), columns=column_names)\n",
        "pd.concat([car_seats, shelve_loc], axis=1)"
      ],
      "metadata": {
        "id": "JlojWBYPAPWd"
      },
      "execution_count": null,
      "outputs": []
    },
    {
      "cell_type": "markdown",
      "source": [
        "What's the difference between nominal and ordinal categorical features?"
      ],
      "metadata": {
        "id": "fVQYhAxr-xoE"
      }
    },
    {
      "cell_type": "code",
      "source": [
        "car_seats[\"UrbanEnc\"] = car_seats.Urban.transform(lambda boolean: 1 if boolean == \"Yes\" else 0)"
      ],
      "metadata": {
        "id": "QUEgYbD1MAgr"
      },
      "execution_count": null,
      "outputs": []
    },
    {
      "cell_type": "code",
      "source": [
        "car_seats[\"USEnc\"] = car_seats.US.transform(lambda boolean: 1 if boolean == \"Yes\" else 0)"
      ],
      "metadata": {
        "id": "Ksbp45jnMugM"
      },
      "execution_count": null,
      "outputs": []
    },
    {
      "cell_type": "code",
      "source": [
        "car_seats[\"ShelveLocEnc\"] = car_seats.ShelveLoc.transform(lambda loc: 1 if loc == \"Bad\" else 2 if loc == \"Medium\" else 3)"
      ],
      "metadata": {
        "id": "07GzKRfKLgR2"
      },
      "execution_count": null,
      "outputs": []
    },
    {
      "cell_type": "markdown",
      "source": [
        "Is this a safe way to convert categorical values into numerical values? What if we have many different values?"
      ],
      "metadata": {
        "id": "A4gH0eAmApf3"
      }
    },
    {
      "cell_type": "code",
      "source": [
        "shelve_loc_dict = { \"Bad\": 1, \"Medium\": 2, \"Good\": 3 }\n",
        "car_seats[\"ShelveLocEnc\"] = car_seats.ShelveLoc.transform(lambda loc: shelve_loc_dict[loc])"
      ],
      "metadata": {
        "id": "HJ1qUzYG_Kz_"
      },
      "execution_count": null,
      "outputs": []
    },
    {
      "cell_type": "code",
      "source": [
        "car_seats"
      ],
      "metadata": {
        "id": "ZR5XzRVCM0hZ"
      },
      "execution_count": null,
      "outputs": []
    },
    {
      "cell_type": "markdown",
      "source": [
        "What could we do more before training or linear regression model?"
      ],
      "metadata": {
        "id": "gU01S0WTBb2F"
      }
    },
    {
      "cell_type": "markdown",
      "source": [
        "# 4. Regression"
      ],
      "metadata": {
        "id": "BuMtxBG3M4ci"
      }
    },
    {
      "cell_type": "code",
      "source": [
        "from sklearn.linear_model import LinearRegression\n",
        "\n",
        "X = car_seats[[\"Income\", \"Advertising\", \"Price\", \"Age\", \"CompPrice\", \"ShelveLocEnc\"]]\n",
        "y = car_seats.Sales\n",
        "\n",
        "reg = LinearRegression().fit(X, y)"
      ],
      "metadata": {
        "id": "T5ynpowKNV_z"
      },
      "execution_count": null,
      "outputs": []
    },
    {
      "cell_type": "code",
      "source": [
        "data = {\"Income\": [10], \"Advertising\": [20], \"Price\": [100], \"Age\": [20], \"CompPrice\": [100], \"ShelveLocEnc\": [3]}\n",
        "X_new = pd.DataFrame(data)\n",
        "reg.predict(X_new)"
      ],
      "metadata": {
        "id": "NR0VEZPHOO3m"
      },
      "execution_count": null,
      "outputs": []
    },
    {
      "cell_type": "code",
      "source": [
        "reg.coef_"
      ],
      "metadata": {
        "id": "T0CHh7acNsn5"
      },
      "execution_count": null,
      "outputs": []
    },
    {
      "cell_type": "code",
      "source": [
        "reg.intercept_"
      ],
      "metadata": {
        "id": "Nfj7UjQMVQSW"
      },
      "execution_count": null,
      "outputs": []
    }
  ]
}